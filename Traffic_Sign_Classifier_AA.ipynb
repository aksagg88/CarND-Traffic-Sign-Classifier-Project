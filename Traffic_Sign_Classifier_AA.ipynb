{
 "cells": [
  {
   "cell_type": "markdown",
   "metadata": {},
   "source": [
    "# Self-Driving Car Engineer Nanodegree\n",
    "\n",
    "## Deep Learning\n",
    "\n",
    "## Project: Build a Traffic Sign Recognition Classifier\n",
    "\n",
    "In this notebook, a template is provided for you to implement your functionality in stages, which is required to successfully complete this project. If additional code is required that cannot be included in the notebook, be sure that the Python code is successfully imported and included in your submission if necessary. \n",
    "\n",
    "> **Note**: Once you have completed all of the code implementations, you need to finalize your work by exporting the iPython Notebook as an HTML document. Before exporting the notebook to html, all of the code cells need to have been run so that reviewers can see the final implementation and output. You can then export the notebook by using the menu above and navigating to  \\n\",\n",
    "    \"**File -> Download as -> HTML (.html)**. Include the finished document along with this notebook as your submission. \n",
    "\n",
    "In addition to implementing code, there is a writeup to complete. The writeup should be completed in a separate file, which can be either a markdown file or a pdf document. There is a [write up template](https://github.com/udacity/CarND-Traffic-Sign-Classifier-Project/blob/master/writeup_template.md) that can be used to guide the writing process. Completing the code template and writeup template will cover all of the [rubric points](https://review.udacity.com/#!/rubrics/481/view) for this project.\n",
    "\n",
    "The [rubric](https://review.udacity.com/#!/rubrics/481/view) contains \"Stand Out Suggestions\" for enhancing the project beyond the minimum requirements. The stand out suggestions are optional. If you decide to pursue the \"stand out suggestions\", you can include the code in this Ipython notebook and also discuss the results in the writeup file.\n",
    "\n",
    "\n",
    ">**Note:** Code and Markdown cells can be executed using the **Shift + Enter** keyboard shortcut. In addition, Markdown cells can be edited by typically double-clicking the cell to enter edit mode."
   ]
  },
  {
   "cell_type": "markdown",
   "metadata": {},
   "source": [
    "---\n",
    "## Step 0: Load The Data"
   ]
  },
  {
   "cell_type": "code",
   "execution_count": 1,
   "metadata": {
    "collapsed": false
   },
   "outputs": [
    {
     "name": "stdout",
     "output_type": "stream",
     "text": [
      "X_train shape: (34799, 32, 32, 3)\n",
      "y_train shape: (34799,)\n",
      "X_valid shape: (4410, 32, 32, 3)\n",
      "y_valid shape: (4410,)\n",
      "X_test shape: (12630, 32, 32, 3)\n",
      "y_test shape: (12630,)\n"
     ]
    }
   ],
   "source": [
    "# Load pickled data\n",
    "import pickle\n",
    "from sklearn.model_selection import train_test_split\n",
    "\n",
    "# TODO: Fill this in based on where you saved the training and testing data\n",
    "\n",
    "training_file = './traffic-signs-data/train.p'\n",
    "validation_file= './traffic-signs-data/valid.p'\n",
    "testing_file = './traffic-signs-data/test.p'\n",
    "\n",
    "with open(training_file, mode='rb') as f:\n",
    "    train = pickle.load(f)\n",
    "with open(validation_file, mode='rb') as f:\n",
    "    valid = pickle.load(f)\n",
    "with open(testing_file, mode='rb') as f:\n",
    "    test = pickle.load(f)\n",
    "    \n",
    "X_train, y_train = train['features'], train['labels']\n",
    "X_valid, y_valid = valid['features'], valid['labels']\n",
    "X_test, y_test = test['features'], test['labels']\n",
    "\n",
    "print(\"X_train shape:\", X_train.shape)\n",
    "print(\"y_train shape:\", y_train.shape)\n",
    "\n",
    "print(\"X_valid shape:\", X_valid.shape)\n",
    "print(\"y_valid shape:\", y_valid.shape)\n",
    "\n",
    "print(\"X_test shape:\", X_test.shape)\n",
    "print(\"y_test shape:\", y_test.shape)"
   ]
  },
  {
   "cell_type": "markdown",
   "metadata": {},
   "source": [
    "---\n",
    "\n",
    "## Step 1: Dataset Summary & Exploration\n",
    "\n",
    "The pickled data is a dictionary with 4 key/value pairs:\n",
    "\n",
    "- `'features'` is a 4D array containing raw pixel data of the traffic sign images, (num examples, width, height, channels).\n",
    "- `'labels'` is a 1D array containing the label/class id of the traffic sign. The file `signnames.csv` contains id -> name mappings for each id.\n",
    "- `'sizes'` is a list containing tuples, (width, height) representing the the original width and height the image.\n",
    "- `'coords'` is a list containing tuples, (x1, y1, x2, y2) representing coordinates of a bounding box around the sign in the image. **THESE COORDINATES ASSUME THE ORIGINAL IMAGE. THE PICKLED DATA CONTAINS RESIZED VERSIONS (32 by 32) OF THESE IMAGES**\n",
    "\n",
    "Complete the basic data summary below. Use python, numpy and/or pandas methods to calculate the data summary rather than hard coding the results. For example, the [pandas shape method](http://pandas.pydata.org/pandas-docs/stable/generated/pandas.DataFrame.shape.html) might be useful for calculating some of the summary results. "
   ]
  },
  {
   "cell_type": "markdown",
   "metadata": {},
   "source": [
    "### Provide a Basic Summary of the Data Set Using Python, Numpy and/or Pandas"
   ]
  },
  {
   "cell_type": "code",
   "execution_count": 2,
   "metadata": {
    "collapsed": false
   },
   "outputs": [
    {
     "name": "stdout",
     "output_type": "stream",
     "text": [
      "Number of training examples = 34799\n",
      "Number of testing examples = 12630\n",
      "Image data shape = (32, 32, 3)\n",
      "Number of classes = 43\n",
      "n_classes_count =  [ 180 1980 2010 1260 1770 1650  360 1290 1260 1320 1800 1170 1890 1920  690\n",
      "  540  360  990 1080  180  300  270  330  450  240 1350  540  210  480  240\n",
      "  390  690  210  599  360 1080  330  180 1860  270  300  210  210]\n"
     ]
    }
   ],
   "source": [
    "### Replace each question mark with the appropriate value. \n",
    "### Use python, pandas or numpy methods rather than hard coding the results\n",
    "\n",
    "import cv2\n",
    "import numpy as np\n",
    "import pandas as pd\n",
    "import seaborn as sb\n",
    "import matplotlib.pyplot as plt\n",
    "\n",
    "%matplotlib inline\n",
    "\n",
    "df_csv = pd.read_csv('signnames.csv')\n",
    "\n",
    "assert(len(X_train)==len(y_train))\n",
    "assert(len(X_valid)==len(y_valid))\n",
    "assert(len(X_test)==len(y_test))\n",
    "\n",
    "# TODO: Number of training examples\n",
    "n_train = X_train.shape[0]\n",
    "\n",
    "# TODO: Number of testing examples.\n",
    "n_test = y_test.shape[0]\n",
    "\n",
    "# TODO: What's the shape of an traffic sign image?\n",
    "image_shape = X_train[0].shape\n",
    "\n",
    "# TODO: How many unique classes/labels there are in the dataset.\n",
    "n_classes, n_classes_count = np.unique(y_train, return_counts=True)\n",
    "\n",
    "print(\"Number of training examples =\", n_train)\n",
    "print(\"Number of testing examples =\", n_test)\n",
    "print(\"Image data shape =\", image_shape)\n",
    "print(\"Number of classes =\", len(n_classes))\n",
    "\n",
    "print('n_classes_count = ', n_classes_count)"
   ]
  },
  {
   "cell_type": "markdown",
   "metadata": {},
   "source": [
    "### Include an exploratory visualization of the dataset"
   ]
  },
  {
   "cell_type": "markdown",
   "metadata": {},
   "source": [
    "Visualize the German Traffic Signs Dataset using the pickled file(s). This is open ended, suggestions include: plotting traffic sign images, plotting the count of each sign, etc.\n",
    "\n",
    "The [Matplotlib](http://matplotlib.org/) [examples](http://matplotlib.org/examples/index.html) and [gallery](http://matplotlib.org/gallery.html) pages are a great resource for doing visualizations in Python.\n",
    "\n",
    "**NOTE:** It's recommended you start with something simple first. If you wish to do more, come back to it after you've completed the rest of the sections."
   ]
  },
  {
   "cell_type": "code",
   "execution_count": 3,
   "metadata": {
    "collapsed": false
   },
   "outputs": [
    {
     "name": "stdout",
     "output_type": "stream",
     "text": [
      "Sample training images\n"
     ]
    },
    {
     "data": {
      "image/png": "[encoded data removed]",
      "text/plain": [
       "<matplotlib.figure.Figure at 0x12601fe10>"
      ]
     },
     "metadata": {},
     "output_type": "display_data"
    }
   ],
   "source": [
    "### Data exploration visualization code goes here.\n",
    "### Feel free to use as many code cells as needed.\n",
    "import matplotlib.pyplot as plt\n",
    "# Visualizations will be shown in the notebook.\n",
    "%matplotlib inline\n",
    "import random\n",
    "\n",
    "print('Sample training images')\n",
    "# show image of 10 random data points\n",
    "fig, axs = plt.subplots(2,5, figsize = (15,6))\n",
    "fig.subplots_adjust(hspace = 0.5, wspace=.001)\n",
    "axs = axs.ravel()\n",
    "for i in range(10):\n",
    "    idx = random.randint(0, len(X_train))\n",
    "    image = X_train[idx]\n",
    "    axs[i].set_xlabel(\"{}\".format(df_csv.SignName[y_train[idx]]))\n",
    "    axs[i].imshow(image)\n",
    "    axs[i].set_title(y_train[idx])\n",
    "    #axs[i].axis('off')"
   ]
  },
  {
   "cell_type": "code",
   "execution_count": 4,
   "metadata": {
    "collapsed": false
   },
   "outputs": [
    {
     "name": "stdout",
     "output_type": "stream",
     "text": [
      "Histogram of traffic sign classes\n"
     ]
    },
    {
     "data": {
      "text/plain": [
       "[<matplotlib.text.Text at 0x129dbd438>,\n",
       " <matplotlib.text.Text at 0x1298583c8>,\n",
       " <matplotlib.text.Text at 0x129dfb2b0>]"
      ]
     },
     "execution_count": 4,
     "metadata": {},
     "output_type": "execute_result"
    },
    {
     "data": {
      "image/png": "[encoded data removed]",
      "text/plain": [
       "<matplotlib.figure.Figure at 0x129d1d048>"
      ]
     },
     "metadata": {},
     "output_type": "display_data"
    }
   ],
   "source": [
    "print('Histogram of traffic sign classes')\n",
    "# Histogram of traffic sign classes\n",
    "sb.set_style(\"whitegrid\", {'axes.grid' : False})\n",
    "fig, ax = plt.subplots(figsize = (12,4))\n",
    "sb.barplot(n_classes, n_classes_count)\n",
    "ax.set(xlabel = 'Traffic Sign Classes', ylabel = 'Frequency', title = 'Training Data Histogram')"
   ]
  },
  {
   "cell_type": "markdown",
   "metadata": {},
   "source": [
    "----\n",
    "\n",
    "## Step 2: Design and Test a Model Architecture\n",
    "\n",
    "Design and implement a deep learning model that learns to recognize traffic signs. Train and test your model on the [German Traffic Sign Dataset](http://benchmark.ini.rub.de/?section=gtsrb&subsection=dataset).\n",
    "\n",
    "There are various aspects to consider when thinking about this problem:\n",
    "\n",
    "- Neural network architecture\n",
    "- Play around preprocessing techniques (normalization, rgb to grayscale, etc)\n",
    "- Number of examples per label (some have more than others).\n",
    "- Generate fake data.\n",
    "\n",
    "Here is an example of a [published baseline model on this problem](http://yann.lecun.com/exdb/publis/pdf/sermanet-ijcnn-11.pdf). It's not required to be familiar with the approach used in the paper but, it's good practice to try to read papers like these.\n",
    "\n",
    "**NOTE:** The LeNet-5 implementation shown in the [classroom](https://classroom.udacity.com/nanodegrees/nd013/parts/fbf77062-5703-404e-b60c-95b78b2f3f9e/modules/6df7ae49-c61c-4bb2-a23e-6527e69209ec/lessons/601ae704-1035-4287-8b11-e2c2716217ad/concepts/d4aca031-508f-4e0b-b493-e7b706120f81) at the end of the CNN lesson is a solid starting point. You'll have to change the number of classes and possibly the preprocessing, but aside from that it's plug and play!"
   ]
  },
  {
   "cell_type": "markdown",
   "metadata": {},
   "source": [
    "### Pre-process the Data Set (normalization, grayscale, etc.)"
   ]
  },
  {
   "cell_type": "markdown",
   "metadata": {},
   "source": [
    "Use the code cell (or multiple code cells, if necessary) to implement the first step of your project."
   ]
  },
  {
   "cell_type": "code",
   "execution_count": 5,
   "metadata": {
    "collapsed": false
   },
   "outputs": [
    {
     "data": {
      "text/plain": [
       "'\\ndef img_preprocess(img):\\n    \\n    #Reference: http://stackoverflow.com/questions/24341114/simple-illumination-correction-in-images-opencv-c\\n    #1. convert RGB to LAB. \\n    #2. Apply adaptive equalization to L channel (brightness equalization)\\n    #3. Convert back to RGB\\n    #4. return normalized RGB image\\n\\n    \\n    img_lab = cv2.cvtColor(img, cv2.COLOR_RGB2LAB)\\n    \\n    clahe = cv2.createCLAHE(clipLimit = 2, tileGridSize = (3,3))\\n    img_lab[:,:,0] = clahe.apply(img_lab[:,:,0])\\n    \\n    img_rgb = cv2.cvtColor(img_lab, cv2.COLOR_LAB2RGB)\\n    \\n    #converting RGB (0 to 255) to (-1 to +1)\\n    img_norm = (img_rgb.astype(\\'float32\\')-128.)/255.\\n    \\n    return(img_norm)\\n\\ndef batch_img_preprocess(batch_x, batch_y):\\n    batch_x_norm = np.zeros_like(X, dtype = \\'float32\\')\\n    for i,img in enumerate(batch_x):\\n        batch_x_norm[i,:,:,:] = img_preprocess(img)\\n    \\n    return(batch_x_norm,batch_y)\\n\\n\\ndef test_img_preprocess():\\n    \\n    plt.figure(figsize = (12,10))\\n    for i in range(5):\\n        idx = random.randint(0, len(X_train))\\n        img = X_train[idx].squeeze() #explicit array conversion\\n        img_proc = img_preprocess(img)\\n        img_div = 255*np.ones((5,32,3),dtype=\"uint8\")\\n        \\n        plt.subplot(1,5,i+1)\\n        plt.imshow(np.vstack([img, img_div, img_proc]))\\n        \\n        plt.title(\"category: {}\".format(y_train[idx]))\\n        plt.xlabel(\"{}\".format(df_csv.SignName[y_train[idx]]))\\n        plt.ylabel(\"idx: {}\".format(idx))\\n        plt.tick_params(labelbottom=\\'off\\', labelleft=\\'off\\')\\n        \\n    \\ntest_img_preprocess()\\n\\n'"
      ]
     },
     "execution_count": 5,
     "metadata": {},
     "output_type": "execute_result"
    }
   ],
   "source": [
    "### Preprocess the data here. Preprocessing steps could include normalization, converting to grayscale, etc.\n",
    "### Feel free to use as many code cells as needed.\n",
    "from sklearn.utils import shuffle\n",
    "\n",
    "\n",
    "X_train, y_train = shuffle(X_train, y_train)\n",
    "\n",
    "\n",
    "'''\n",
    "def img_preprocess(img):\n",
    "    \n",
    "    #Reference: http://stackoverflow.com/questions/24341114/simple-illumination-correction-in-images-opencv-c\n",
    "    #1. convert RGB to LAB. \n",
    "    #2. Apply adaptive equalization to L channel (brightness equalization)\n",
    "    #3. Convert back to RGB\n",
    "    #4. return normalized RGB image\n",
    "\n",
    "    \n",
    "    img_lab = cv2.cvtColor(img, cv2.COLOR_RGB2LAB)\n",
    "    \n",
    "    clahe = cv2.createCLAHE(clipLimit = 2, tileGridSize = (3,3))\n",
    "    img_lab[:,:,0] = clahe.apply(img_lab[:,:,0])\n",
    "    \n",
    "    img_rgb = cv2.cvtColor(img_lab, cv2.COLOR_LAB2RGB)\n",
    "    \n",
    "    #converting RGB (0 to 255) to (-1 to +1)\n",
    "    img_norm = (img_rgb.astype('float32')-128.)/255.\n",
    "    \n",
    "    return(img_norm)\n",
    "\n",
    "def batch_img_preprocess(batch_x, batch_y):\n",
    "    batch_x_norm = np.zeros_like(X, dtype = 'float32')\n",
    "    for i,img in enumerate(batch_x):\n",
    "        batch_x_norm[i,:,:,:] = img_preprocess(img)\n",
    "    \n",
    "    return(batch_x_norm,batch_y)\n",
    "\n",
    "\n",
    "def test_img_preprocess():\n",
    "    \n",
    "    plt.figure(figsize = (12,10))\n",
    "    for i in range(5):\n",
    "        idx = random.randint(0, len(X_train))\n",
    "        img = X_train[idx].squeeze() #explicit array conversion\n",
    "        img_proc = img_preprocess(img)\n",
    "        img_div = 255*np.ones((5,32,3),dtype=\"uint8\")\n",
    "        \n",
    "        plt.subplot(1,5,i+1)\n",
    "        plt.imshow(np.vstack([img, img_div, img_proc]))\n",
    "        \n",
    "        plt.title(\"category: {}\".format(y_train[idx]))\n",
    "        plt.xlabel(\"{}\".format(df_csv.SignName[y_train[idx]]))\n",
    "        plt.ylabel(\"idx: {}\".format(idx))\n",
    "        plt.tick_params(labelbottom='off', labelleft='off')\n",
    "        \n",
    "    \n",
    "test_img_preprocess()\n",
    "\n",
    "'''"
   ]
  },
  {
   "cell_type": "markdown",
   "metadata": {},
   "source": [
    "## Dataset augmentation\n",
    "\n",
    "One of the overfitting protection techniques used is Data augmentation. The data set was artifitially enlarged using label-preserving transformation. The transformations here use functions from openCV for \n",
    "\n",
    "1. Dataset augmentation using affine transformation"
   ]
  },
  {
   "cell_type": "code",
   "execution_count": 6,
   "metadata": {
    "collapsed": false
   },
   "outputs": [
    {
     "data": {
      "text/plain": [
       "\"\\ndef transform_image(img, angle_range = 20, trans_range = 15, shear_range = 10):\\n    img_h, img_w, img_ch = img.shape\\n    img_warp = np.copy(img)\\n\\n    #Generate random rotation matrix\\n    rot = np.random.uniform(angle_range) - angle_range/2\\n    rotM = cv2.getRotationMatrix2D((img_w/2,img_h/2),rot,1)\\n\\n    #Generate random tranlation matrix\\n    tr_x, tr_y = trans_range*np.random.uniform(size=(2,1))-trans_range/2\\n    transM = np.float32([[1,0,tr_x],[0,1,tr_y]])\\n\\n    #Generate random sheer matrix\\n    pts1 = np.float32([[5,5],[20,5],[5,20]])\\n    pt1  = 5+shear_range*np.random.uniform()-shear_range/2\\n    pt2  = 20+shear_range*np.random.uniform()-shear_range/2\\n    pts2 = np.float32([[pt1,5],[pt2,pt1],[5,pt2]])\\n    shearM = cv2.getAffineTransform(pts1,pts2)\\n\\n    #Apply transformation\\n    img_warp = cv2.warpAffine(img_warp, rotM, (img_w, img_h))\\n    img_warp = cv2.warpAffine(img_warp, transM, (img_w, img_h))\\n    img_warp = cv2.warpAffine(img_warp, shearM, (img_w, img_h))\\n    #img_warp = img_warp.reshape(-1, img_warp.shape)\\n    \\n    return img_warp\\n\\ndef generate_data(img, num):\\n    data = []\\n    data.append(img)\\n    \\n    for i in range(num-1):\\n        data.append(transform_image(img))\\n    \\n    return data\\n\\n\\n\\n\\nimport matplotlib.gridspec as gridspec\\nimport matplotlib.image as mpimg\\n\\n\\n\\nidx = random.randint(0, len(X_train))\\nimage = X_train[idx].squeeze() #explicit array conversion\\n\\ngs1 = gridspec.GridSpec(10, 10)\\ngs1.update(wspace=0.01, hspace=0.02) # set the spacing between axes. \\nplt.figure(figsize=(12,12))\\nfor i in range(100):\\n    ax1 = plt.subplot(gs1[i])\\n    ax1.set_xticklabels([])\\n    ax1.set_yticklabels([])\\n    ax1.set_aspect('equal')\\n    img = transform_image(image,20,10,5)\\n\\n    plt.subplot(10,10,i+1)\\n    plt.imshow(img)\\n    plt.axis('off')\\n\\nplt.show()\\n\\n\\n \\ndef augmentData(X_data, y_data, multiplier = 2):\\n    \\n    print('X data, y data',X_data.shape, y_data.shape)\\n    \\n    X_aug = [X_data]\\n    y_aug = [y_data]\\n    \\n    class_labels, class_counts = np.unique(y_data, return_counts = True)\\n    \\n    n_target = np.int(multiplier*np.max(class_counts))\\n    n_augs = [n_target - class_count for class_count in class_counts]\\n    \\n    for class_i in class_labels:\\n        print(class_i, ': ', end = '')\\n        class_indices = np.where(y_data == class_i)\\n        n_samples = len(class_indices[0])\\n        print(n_samples)\\n\\naugmentData(X_train, y_train)\\n        \\n\\n\""
      ]
     },
     "execution_count": 6,
     "metadata": {},
     "output_type": "execute_result"
    }
   ],
   "source": [
    "'''\n",
    "def transform_image(img, angle_range = 20, trans_range = 15, shear_range = 10):\n",
    "    img_h, img_w, img_ch = img.shape\n",
    "    img_warp = np.copy(img)\n",
    "\n",
    "    #Generate random rotation matrix\n",
    "    rot = np.random.uniform(angle_range) - angle_range/2\n",
    "    rotM = cv2.getRotationMatrix2D((img_w/2,img_h/2),rot,1)\n",
    "\n",
    "    #Generate random tranlation matrix\n",
    "    tr_x, tr_y = trans_range*np.random.uniform(size=(2,1))-trans_range/2\n",
    "    transM = np.float32([[1,0,tr_x],[0,1,tr_y]])\n",
    "\n",
    "    #Generate random sheer matrix\n",
    "    pts1 = np.float32([[5,5],[20,5],[5,20]])\n",
    "    pt1  = 5+shear_range*np.random.uniform()-shear_range/2\n",
    "    pt2  = 20+shear_range*np.random.uniform()-shear_range/2\n",
    "    pts2 = np.float32([[pt1,5],[pt2,pt1],[5,pt2]])\n",
    "    shearM = cv2.getAffineTransform(pts1,pts2)\n",
    "\n",
    "    #Apply transformation\n",
    "    img_warp = cv2.warpAffine(img_warp, rotM, (img_w, img_h))\n",
    "    img_warp = cv2.warpAffine(img_warp, transM, (img_w, img_h))\n",
    "    img_warp = cv2.warpAffine(img_warp, shearM, (img_w, img_h))\n",
    "    #img_warp = img_warp.reshape(-1, img_warp.shape)\n",
    "    \n",
    "    return img_warp\n",
    "\n",
    "def generate_data(img, num):\n",
    "    data = []\n",
    "    data.append(img)\n",
    "    \n",
    "    for i in range(num-1):\n",
    "        data.append(transform_image(img))\n",
    "    \n",
    "    return data\n",
    "\n",
    "\n",
    "\n",
    "\n",
    "import matplotlib.gridspec as gridspec\n",
    "import matplotlib.image as mpimg\n",
    "\n",
    "\n",
    "\n",
    "idx = random.randint(0, len(X_train))\n",
    "image = X_train[idx].squeeze() #explicit array conversion\n",
    "\n",
    "gs1 = gridspec.GridSpec(10, 10)\n",
    "gs1.update(wspace=0.01, hspace=0.02) # set the spacing between axes. \n",
    "plt.figure(figsize=(12,12))\n",
    "for i in range(100):\n",
    "    ax1 = plt.subplot(gs1[i])\n",
    "    ax1.set_xticklabels([])\n",
    "    ax1.set_yticklabels([])\n",
    "    ax1.set_aspect('equal')\n",
    "    img = transform_image(image,20,10,5)\n",
    "\n",
    "    plt.subplot(10,10,i+1)\n",
    "    plt.imshow(img)\n",
    "    plt.axis('off')\n",
    "\n",
    "plt.show()\n",
    "\n",
    "\n",
    " \n",
    "def augmentData(X_data, y_data, multiplier = 2):\n",
    "    \n",
    "    print('X data, y data',X_data.shape, y_data.shape)\n",
    "    \n",
    "    X_aug = [X_data]\n",
    "    y_aug = [y_data]\n",
    "    \n",
    "    class_labels, class_counts = np.unique(y_data, return_counts = True)\n",
    "    \n",
    "    n_target = np.int(multiplier*np.max(class_counts))\n",
    "    n_augs = [n_target - class_count for class_count in class_counts]\n",
    "    \n",
    "    for class_i in class_labels:\n",
    "        print(class_i, ': ', end = '')\n",
    "        class_indices = np.where(y_data == class_i)\n",
    "        n_samples = len(class_indices[0])\n",
    "        print(n_samples)\n",
    "\n",
    "augmentData(X_train, y_train)\n",
    "        \n",
    "\n",
    "'''"
   ]
  },
  {
   "cell_type": "markdown",
   "metadata": {},
   "source": [
    "### Model Architecture"
   ]
  },
  {
   "cell_type": "markdown",
   "metadata": {},
   "source": [
    "- Accepts a volume of size \\\\(W_1 \\times H_1 \\times D_1\\\\)\n",
    "- Requires four hyperparameters: \n",
    "  - Number of filters \\\\(K\\\\), \n",
    "  - their spatial extent \\\\(F\\\\), \n",
    "  - the stride \\\\(S\\\\), \n",
    "  - the amount of zero padding \\\\(P\\\\).\n",
    "- Produces a volume of size \\\\(W_2 \\times H_2 \\times D_2\\\\) where:\n",
    "  - \\\\(W_2 = (W_1 - F + 2P)/S + 1\\\\)\n",
    "  - \\\\(H_2 = (H_1 - F + 2P)/S + 1\\\\) (i.e. width and height are computed equally by symmetry)\n",
    "  - \\\\(D_2 = K\\\\)\n",
    "- With parameter sharing, it introduces \\\\(F \\cdot F \\cdot D_1\\\\) weights per filter, for a total of \\\\((F \\cdot F \\cdot D_1) \\cdot K\\\\) weights and \\\\(K\\\\) biases.\n",
    "- In the output volume, the \\\\(d\\\\)-th depth slice (of size \\\\(W_2 \\times H_2\\\\)) is the result of performing a valid convolution of the \\\\(d\\\\)-th filter over the input volume with a stride of \\\\(S\\\\), and then offset by \\\\(d\\\\)-th bias.\n",
    "\n",
    "A common setting of the hyperparameters is \\\\(F = 3, S = 1, P = 1\\\\). \n",
    "\n",
    "Starting with LeNet architecture"
   ]
  },
  {
   "cell_type": "code",
   "execution_count": 23,
   "metadata": {
    "collapsed": false
   },
   "outputs": [],
   "source": [
    "import tensorflow as tf\n",
    "from tensorflow.contrib.layers import flatten\n",
    "\n",
    "\n",
    "# Training Parameters\n",
    "EPOCHS = 20\n",
    "BATCH_SIZE = 128\n",
    "rate = 0.001\n",
    "keep_prob = tf.placeholder(tf.float32) # probability to keep units\n",
    "\n",
    "\n",
    "### Methods for differen types of layers\n",
    "def conv_layer(input, kernel_size, size_in, size_out, name=\"conv\"):\n",
    "    with tf.name_scope(name):\n",
    "        w = tf.Variable(tf.truncated_normal([kernel_size, kernel_size, size_in, size_out], stddev=0.1), name=\"W\")\n",
    "        b = tf.Variable(tf.constant(0.1, shape=[size_out]), name=\"B\")\n",
    "        conv = tf.nn.conv2d(input, w, strides=[1, 1, 1, 1], padding=\"VALID\")\n",
    "        act = tf.nn.relu(conv + b)\n",
    "        tf.summary.histogram(\"weights\", w)\n",
    "        tf.summary.histogram(\"biases\", b)\n",
    "        tf.summary.histogram(\"activations\", act)\n",
    "        return(act)\n",
    "    \n",
    "def lrn_layer(input, name =\"lrn\"):\n",
    "    with tf.name_scope(name):\n",
    "        return(tf.nn.local_response_normalization(input, alpha=1e-4,beta=0.75, depth_radius=2, bias=2.0))\n",
    "    \n",
    "def maxpool2x2_layer(input, name=\"maxpool\"):\n",
    "    with tf.name_scope(name):\n",
    "        return(tf.nn.max_pool(input, ksize=[1, 2, 2, 1], strides=[1, 2, 2, 1], padding=\"VALID\"))\n",
    "\n",
    "\n",
    "def fc_layer(input, size_in, size_out, name=\"fc\"):\n",
    "    with tf.name_scope(name):\n",
    "        w = tf.Variable(tf.truncated_normal([size_in, size_out], stddev=0.1), name=\"W\")\n",
    "        b = tf.Variable(tf.constant(0.1, shape=[size_out]), name=\"B\")\n",
    "        act = tf.matmul(input, w) + b\n",
    "        tf.summary.histogram(\"weights\", w)\n",
    "        tf.summary.histogram(\"biases\", b)\n",
    "        tf.summary.histogram(\"activations\", act)\n",
    "        return act\n",
    "\n",
    "def DO_layer(input, prob = keep_prob, name =\"DropOut\"):\n",
    "    with tf.name_scope(name):\n",
    "        return(tf.nn.dropout(input, prob))\n"
   ]
  },
  {
   "cell_type": "markdown",
   "metadata": {},
   "source": [
    "#### CNN Architecture:  Case 1\n",
    "\n",
    "Tessting the LeNet architecute"
   ]
  },
  {
   "cell_type": "code",
   "execution_count": 8,
   "metadata": {
    "collapsed": true
   },
   "outputs": [],
   "source": [
    "def LeNet(x):    \n",
    "    # Arguments used for tf.truncated_normal, randomly defines variables for the weights and biases for each layer\n",
    "    mu = 0\n",
    "    sigma = 0.1\n",
    "\n",
    "    # TODO: Layer 1: Convolutional. Input = 32x32x3. Output = 28x28x6\n",
    "    # weight shape = patch width x pathc height x input feature depth x fiter size\n",
    "    # bias shape is same as filter output size\n",
    "    # \n",
    "    conv1_W = tf.Variable(tf.truncated_normal(shape=(5, 5, 3, 6), mean = mu, stddev = sigma))\n",
    "    conv1_b = tf.Variable(tf.zeros(6))\n",
    "    conv1 = tf.nn.conv2d(x, conv1_W, strides = [1,1,1,1], padding = 'VALID') + conv1_b\n",
    "\n",
    "    # TODO: Activation.\n",
    "    # relu activation function\n",
    "    conv1 = tf.nn.relu(conv1)\n",
    "\n",
    "    # TODO: Pooling. Input = 28x28x6. Output = 14x14x6.\n",
    "    conv1 = tf.nn.max_pool(conv1, ksize = [1,2,2,1], strides = [1,2,2,1], padding = 'VALID')\n",
    "\n",
    "    # TODO: Layer 2: Convolutional. Output = 10x10x16.\n",
    "    conv2_W = tf.Variable(tf.truncated_normal(shape = (5,5,6,16), mean = mu, stddev = sigma))\n",
    "    conv2_b = tf.Variable(tf.zeros(16))\n",
    "    conv2 = tf.nn.conv2d(conv1,conv2_W, strides = [1,1,1,1], padding = 'VALID') + conv2_b\n",
    "\n",
    "\n",
    "    # TODO: Activation.\n",
    "    conv2 = tf.nn.relu(conv2)\n",
    "\n",
    "    # TODO: Pooling. Input = 10x10x16. Output = 5x5x16.\n",
    "    conv2 = tf.nn.max_pool(conv2, ksize = [1,2,2,1], strides = [1,2,2,1], padding = 'VALID')\n",
    "\n",
    "    # TODO: Flatten. Input = 5x5x16. Output = 400.\n",
    "    f0 = flatten(conv2)\n",
    "\n",
    "    # TODO: Layer 3: Fully Connected. Input = 400. Output = 120.\n",
    "    f1_w = tf.Variable(tf.truncated_normal(shape =(400,120), mean = mu, stddev = sigma))\n",
    "    f1_b = tf.Variable(tf.zeros(120))\n",
    "    f1 = tf.matmul(f0,f1_w) + f1_b  \n",
    "\n",
    "    # TODO: Activation.\n",
    "    f1 = tf.nn.relu(f1)\n",
    "\n",
    "    # ADDITION: Drouput\n",
    "    #keep_prob = tf.placeholder(tf.float32) # probability to keep units\n",
    "    #f1 = tf.nn.dropout(f1, keep_prob)\n",
    "\n",
    "    # TODO: Layer 4: Fully Connected. Input = 120. Output = 84.\n",
    "    f2_w  = tf.Variable(tf.truncated_normal(shape =(120,84), mean = mu, stddev = sigma))\n",
    "    f2_b = tf.Variable(tf.zeros(84))\n",
    "    f2 = tf.matmul(f1, f2_w) + f2_b\n",
    "\n",
    "\n",
    "    # TODO: Activation.\n",
    "    f2 = tf.nn.relu(f2)\n",
    "\n",
    "    # ADDITION: Drouput\n",
    "    #f2 = tf.nn.dropout(f2, keep_prob)\n",
    "\n",
    "    # TODO: Layer 5: Fully Connected. Input = 84. Output = 43.\n",
    "    f3_w = tf.Variable(tf.truncated_normal(shape =(84,43), mean = mu, stddev = sigma))\n",
    "    f3_b = tf.Variable(tf.zeros(43))\n",
    "    logits = tf.matmul(f2, f3_w) + f3_b\n",
    "\n",
    "    return(logits)"
   ]
  },
  {
   "cell_type": "markdown",
   "metadata": {},
   "source": [
    "#### CNN Architecture:  Case 2\n",
    "\n",
    "Tessting the LeNet architecute with dropout"
   ]
  },
  {
   "cell_type": "code",
   "execution_count": 9,
   "metadata": {
    "collapsed": true
   },
   "outputs": [],
   "source": [
    "def LeNetDOL(x):    \n",
    "    # Arguments used for tf.truncated_normal, randomly defines variables for the weights and biases for each layer\n",
    "    mu = 0\n",
    "    sigma = 0.1\n",
    "\n",
    "    # TODO: Layer 1: Convolutional. Input = 32x32x3. Output = 28x28x6\n",
    "    # weight shape = patch width x pathc height x input feature depth x fiter size\n",
    "    # bias shape is same as filter output size\n",
    "    # \n",
    "    conv1_W = tf.Variable(tf.truncated_normal(shape=(5, 5, 3, 6), mean = mu, stddev = sigma))\n",
    "    conv1_b = tf.Variable(tf.zeros(6))\n",
    "    conv1 = tf.nn.conv2d(x, conv1_W, strides = [1,1,1,1], padding = 'VALID') + conv1_b\n",
    "\n",
    "    # TODO: Activation.\n",
    "    # relu activation function\n",
    "    conv1 = tf.nn.relu(conv1)\n",
    "    \n",
    "    # TODO: Pooling. Input = 28x28x6. Output = 14x14x6.\n",
    "    conv1 = tf.nn.max_pool(conv1, ksize = [1,2,2,1], strides = [1,2,2,1], padding = 'VALID')\n",
    "\n",
    "    # TODO: Layer 2: Convolutional. Output = 10x10x16.\n",
    "    conv2_W = tf.Variable(tf.truncated_normal(shape = (5,5,6,16), mean = mu, stddev = sigma))\n",
    "    conv2_b = tf.Variable(tf.zeros(16))\n",
    "    conv2 = tf.nn.conv2d(conv1,conv2_W, strides = [1,1,1,1], padding = 'VALID') + conv2_b\n",
    "\n",
    "\n",
    "    # TODO: Activation.\n",
    "    conv2 = tf.nn.relu(conv2)\n",
    "    \n",
    "    # TODO: Pooling. Input = 10x10x16. Output = 5x5x16.\n",
    "    conv2 = tf.nn.max_pool(conv2, ksize = [1,2,2,1], strides = [1,2,2,1], padding = 'VALID')\n",
    "\n",
    "    # TODO: Flatten. Input = 5x5x16. Output = 400.\n",
    "    f0 = flatten(conv2)\n",
    "\n",
    "    # TODO: Layer 3: Fully Connected. Input = 400. Output = 120.\n",
    "    f1_w = tf.Variable(tf.truncated_normal(shape =(400,120), mean = mu, stddev = sigma))\n",
    "    f1_b = tf.Variable(tf.zeros(120))\n",
    "    f1 = tf.matmul(f0,f1_w) + f1_b  \n",
    "\n",
    "    # TODO: Activation.\n",
    "    f1 = tf.nn.relu(f1)\n",
    "\n",
    "    # ADDITION: Drouput\n",
    "    f1 = tf.nn.dropout(f1, keep_prob)\n",
    "\n",
    "    # TODO: Layer 4: Fully Connected. Input = 120. Output = 84.\n",
    "    f2_w  = tf.Variable(tf.truncated_normal(shape =(120,84), mean = mu, stddev = sigma))\n",
    "    f2_b = tf.Variable(tf.zeros(84))\n",
    "    f2 = tf.matmul(f1, f2_w) + f2_b\n",
    "\n",
    "    # TODO: Activation.\n",
    "    f2 = tf.nn.relu(f2)\n",
    "\n",
    "    # ADDITION: Drouput\n",
    "    f2 = tf.nn.dropout(f2, keep_prob)\n",
    "\n",
    "    # TODO: Layer 5: Fully Connected. Input = 84. Output = 43.\n",
    "    f3_w = tf.Variable(tf.truncated_normal(shape =(84,43), mean = mu, stddev = sigma))\n",
    "    f3_b = tf.Variable(tf.zeros(43))\n",
    "    logits = tf.matmul(f2, f3_w) + f3_b\n",
    "\n",
    "    return(logits)"
   ]
  },
  {
   "cell_type": "markdown",
   "metadata": {},
   "source": [
    "#### CNN Architecture Case 3\n",
    "\n",
    "Added layers 2 layers of local response normalizaion"
   ]
  },
  {
   "cell_type": "code",
   "execution_count": 10,
   "metadata": {
    "collapsed": true
   },
   "outputs": [],
   "source": [
    "def LeNetLRNDOL(x):    \n",
    "    # Arguments used for tf.truncated_normal, randomly defines variables for the weights and biases for each layer\n",
    "    mu = 0\n",
    "    sigma = 0.1\n",
    "\n",
    "    # TODO: Layer 1: Convolutional. Input = 32x32x3. Output = 28x28x6\n",
    "    # weight shape = patch width x pathc height x input feature depth x fiter size\n",
    "    # bias shape is same as filter output size\n",
    "    # \n",
    "    conv1_W = tf.Variable(tf.truncated_normal(shape=(5, 5, 3, 6), mean = mu, stddev = sigma))\n",
    "    conv1_b = tf.Variable(tf.zeros(6))\n",
    "    conv1 = tf.nn.conv2d(x, conv1_W, strides = [1,1,1,1], padding = 'VALID') + conv1_b\n",
    "\n",
    "    # TODO: Activation.\n",
    "    # relu activation function\n",
    "    conv1 = tf.nn.relu(conv1)\n",
    "    \n",
    "    \n",
    "    # Local Response Normalization\n",
    "    conv1 = tf.nn.local_response_normalization(conv1, alpha=1e-4,beta=0.75, depth_radius=2, bias=2.0)\n",
    "\n",
    "\n",
    "    # TODO: Pooling. Input = 28x28x6. Output = 14x14x6.\n",
    "    conv1 = tf.nn.max_pool(conv1, ksize = [1,2,2,1], strides = [1,2,2,1], padding = 'VALID')\n",
    "\n",
    "    # TODO: Layer 2: Convolutional. Output = 10x10x16.\n",
    "    conv2_W = tf.Variable(tf.truncated_normal(shape = (5,5,6,16), mean = mu, stddev = sigma))\n",
    "    conv2_b = tf.Variable(tf.zeros(16))\n",
    "    conv2 = tf.nn.conv2d(conv1,conv2_W, strides = [1,1,1,1], padding = 'VALID') + conv2_b\n",
    "\n",
    "\n",
    "    # TODO: Activation.\n",
    "    conv2 = tf.nn.relu(conv2)\n",
    "    \n",
    "    # Local reponse Normalization\n",
    "    conv1 = tf.nn.local_response_normalization(conv1, alpha=1e-4,beta=0.75, depth_radius=2, bias=2.0)\n",
    "\n",
    "    # TODO: Pooling. Input = 10x10x16. Output = 5x5x16.\n",
    "    conv2 = tf.nn.max_pool(conv2, ksize = [1,2,2,1], strides = [1,2,2,1], padding = 'VALID')\n",
    "\n",
    "    # TODO: Flatten. Input = 5x5x16. Output = 400.\n",
    "    f0 = flatten(conv2)\n",
    "\n",
    "    # TODO: Layer 3: Fully Connected. Input = 400. Output = 120.\n",
    "    f1_w = tf.Variable(tf.truncated_normal(shape =(400,120), mean = mu, stddev = sigma))\n",
    "    f1_b = tf.Variable(tf.zeros(120))\n",
    "    f1 = tf.matmul(f0,f1_w) + f1_b  \n",
    "\n",
    "    # TODO: Activation.\n",
    "    f1 = tf.nn.relu(f1)\n",
    "\n",
    "    # ADDITION: Drouput\n",
    "    f1 = tf.nn.dropout(f1, keep_prob)\n",
    "\n",
    "    # TODO: Layer 4: Fully Connected. Input = 120. Output = 84.\n",
    "    f2_w  = tf.Variable(tf.truncated_normal(shape =(120,84), mean = mu, stddev = sigma))\n",
    "    f2_b = tf.Variable(tf.zeros(84))\n",
    "    f2 = tf.matmul(f1, f2_w) + f2_b\n",
    "\n",
    "\n",
    "    # TODO: Activation.\n",
    "    f2 = tf.nn.relu(f2)\n",
    "\n",
    "    # ADDITION: Drouput\n",
    "    f2 = tf.nn.dropout(f2, keep_prob)\n",
    "\n",
    "    # TODO: Layer 5: Fully Connected. Input = 84. Output = 43.\n",
    "    f3_w = tf.Variable(tf.truncated_normal(shape =(84,43), mean = mu, stddev = sigma))\n",
    "    f3_b = tf.Variable(tf.zeros(43))\n",
    "    logits = tf.matmul(f2, f3_w) + f3_b\n",
    "\n",
    "    return(logits)"
   ]
  },
  {
   "cell_type": "markdown",
   "metadata": {},
   "source": [
    "### Train, Validate and Test the Model"
   ]
  },
  {
   "cell_type": "markdown",
   "metadata": {},
   "source": [
    "A validation set can be used to assess how well the model is performing. A low accuracy on the training and validation\n",
    "sets imply underfitting. A high accuracy on the training set but low accuracy on the validation set implies overfitting."
   ]
  },
  {
   "cell_type": "code",
   "execution_count": 11,
   "metadata": {
    "collapsed": true
   },
   "outputs": [],
   "source": [
    "### Train your model here.\n",
    "### Calculate and report the accuracy on the training and validation set.\n",
    "### Once a final model architecture is selected, \n",
    "### the accuracy on the test set should be calculated and reported as well.\n",
    "### Feel free to use as many code cells as needed.\n",
    "\n",
    "\n",
    "x = tf.placeholder(tf.float32, (None, 32, 32, 3), name=\"x\")\n",
    "y = tf.placeholder(tf.int32, (None), name=\"labels\")\n",
    "one_hot_y = tf.one_hot(y, 43)\n"
   ]
  },
  {
   "cell_type": "markdown",
   "metadata": {},
   "source": [
    "### Training Pipeline"
   ]
  },
  {
   "cell_type": "code",
   "execution_count": 12,
   "metadata": {
    "collapsed": false
   },
   "outputs": [],
   "source": [
    "\n",
    "\n",
    "\n",
    "logits = LeNetLRNDOL(x)\n",
    "\n",
    "with tf.name_scope(\"Cross_entropy\"):\n",
    "    cross_entropy = tf.nn.softmax_cross_entropy_with_logits(labels=one_hot_y, logits=logits, name =\"xent\")\n",
    "    loss_operation = tf.reduce_mean(cross_entropy, name =\"loss_op\")\n",
    "    tf.summary.scalar(\"Xent\",loss_operation)\n",
    "\n",
    "\n",
    "with tf.name_scope(\"train\"):\n",
    "    optimizer = tf.train.AdamOptimizer(learning_rate = rate)\n",
    "    training_operation = optimizer.minimize(loss_operation)\n",
    "\n",
    "\n",
    "with tf.name_scope(\"accuracy\"):\n",
    "    correct_prediction = tf.equal(tf.argmax(logits, 1), tf.argmax(one_hot_y, 1))\n",
    "    accuracy_operation = tf.reduce_mean(tf.cast(correct_prediction, tf.float32))\n",
    "    tf.summary.scalar(\"accuracy\", accuracy)\n",
    "    \n",
    "saver = tf.train.Saver()\n",
    "    "
   ]
  },
  {
   "cell_type": "markdown",
   "metadata": {},
   "source": [
    "### Model Evaluation\n",
    "Evaluate how well the loss and accuracy of the model for a given dataset."
   ]
  },
  {
   "cell_type": "code",
   "execution_count": 13,
   "metadata": {
    "collapsed": true
   },
   "outputs": [],
   "source": [
    "\n",
    "\n",
    "def evaluate(X_data, y_data):\n",
    "    num_examples = len(X_data)\n",
    "    total_accuracy = 0\n",
    "    sess = tf.get_default_session()\n",
    "    for offset in range(0, num_examples, BATCH_SIZE):\n",
    "        batch_x, batch_y = X_data[offset:offset+BATCH_SIZE], y_data[offset:offset+BATCH_SIZE]\n",
    "        accuracy = sess.run(accuracy_operation, feed_dict={x: batch_x, y: batch_y, keep_prob: 1})\n",
    "        total_accuracy += (accuracy * len(batch_x))\n",
    "    return total_accuracy / num_examples"
   ]
  },
  {
   "cell_type": "markdown",
   "metadata": {},
   "source": [
    "## Train the Model\n",
    "Run the training data through the training pipeline to train the model.\n",
    "\n",
    "Before each epoch, shuffle the training set.\n",
    "\n",
    "After each epoch, measure the loss and accuracy of the validation set.\n",
    "\n",
    "Save the model after training."
   ]
  },
  {
   "cell_type": "code",
   "execution_count": 14,
   "metadata": {
    "collapsed": false
   },
   "outputs": [
    {
     "name": "stdout",
     "output_type": "stream",
     "text": [
      "Training...\n",
      "\n",
      "EPOCH 1 ...\n",
      "Validation Accuracy = 0.208\n",
      "\n",
      "EPOCH 2 ...\n",
      "Validation Accuracy = 0.510\n",
      "\n",
      "EPOCH 3 ...\n",
      "Validation Accuracy = 0.683\n",
      "\n",
      "EPOCH 4 ...\n",
      "Validation Accuracy = 0.793\n",
      "\n",
      "EPOCH 5 ...\n",
      "Validation Accuracy = 0.827\n",
      "\n",
      "EPOCH 6 ...\n",
      "Validation Accuracy = 0.835\n",
      "\n",
      "EPOCH 7 ...\n",
      "Validation Accuracy = 0.859\n",
      "\n",
      "EPOCH 8 ...\n",
      "Validation Accuracy = 0.874\n",
      "\n",
      "EPOCH 9 ...\n",
      "Validation Accuracy = 0.897\n",
      "\n",
      "EPOCH 10 ...\n",
      "Validation Accuracy = 0.904\n",
      "\n",
      "EPOCH 11 ...\n",
      "Validation Accuracy = 0.901\n",
      "\n",
      "EPOCH 12 ...\n",
      "Validation Accuracy = 0.906\n",
      "\n",
      "EPOCH 13 ...\n",
      "Validation Accuracy = 0.914\n",
      "\n",
      "EPOCH 14 ...\n",
      "Validation Accuracy = 0.924\n",
      "\n",
      "EPOCH 15 ...\n",
      "Validation Accuracy = 0.915\n",
      "\n",
      "EPOCH 16 ...\n",
      "Validation Accuracy = 0.917\n",
      "\n",
      "EPOCH 17 ...\n",
      "Validation Accuracy = 0.907\n",
      "\n",
      "EPOCH 18 ...\n",
      "Validation Accuracy = 0.921\n",
      "\n",
      "EPOCH 19 ...\n",
      "Validation Accuracy = 0.916\n",
      "\n",
      "EPOCH 20 ...\n",
      "Validation Accuracy = 0.922\n",
      "\n",
      "Model saved\n"
     ]
    }
   ],
   "source": [
    "with tf.Session() as sess:\n",
    "    sess.run(tf.global_variables_initializer())\n",
    "    \n",
    "    num_examples = len(X_train)\n",
    "    \n",
    "    print(\"Training...\")\n",
    "    print()\n",
    "    for i in range(EPOCHS):\n",
    "        X_train, y_train = shuffle(X_train, y_train)\n",
    "        for offset in range(0, num_examples, BATCH_SIZE):\n",
    "            end = offset + BATCH_SIZE\n",
    "            batch_x, batch_y = X_train[offset:end], y_train[offset:end]\n",
    "            sess.run(training_operation, feed_dict={x: batch_x, y: batch_y, keep_prob: 0.5})\n",
    "        validation_accuracy = evaluate(X_valid, y_valid)\n",
    "        \n",
    "        \n",
    "        print(\"EPOCH {} ...\".format(i+1))\n",
    "        print(\"Validation Accuracy = {:.3f}\".format(validation_accuracy))\n",
    "        print()\n",
    "        \n",
    "    saver.save(sess, './lenetLRNDOL')\n",
    "    print(\"Model saved\")"
   ]
  },
  {
   "cell_type": "markdown",
   "metadata": {},
   "source": [
    "---\n",
    "\n",
    "## Step 3: Test a Model on New Images\n",
    "\n",
    "To give yourself more insight into how your model is working, download at least five pictures of German traffic signs from the web and use your model to predict the traffic sign type.\n",
    "\n",
    "You may find `signnames.csv` useful as it contains mappings from the class id (integer) to the actual sign name."
   ]
  },
  {
   "cell_type": "markdown",
   "metadata": {},
   "source": [
    "### Load and Output the Images"
   ]
  },
  {
   "cell_type": "code",
   "execution_count": 15,
   "metadata": {
    "collapsed": true
   },
   "outputs": [],
   "source": [
    "### Load the images and plot them here.\n",
    "### Feel free to use as many code cells as needed."
   ]
  },
  {
   "cell_type": "markdown",
   "metadata": {},
   "source": [
    "### Predict the Sign Type for Each Image"
   ]
  },
  {
   "cell_type": "code",
   "execution_count": 16,
   "metadata": {
    "collapsed": true
   },
   "outputs": [],
   "source": [
    "### Run the predictions here and use the model to output the prediction for each image.\n",
    "### Make sure to pre-process the images with the same pre-processing pipeline used earlier.\n",
    "### Feel free to use as many code cells as needed."
   ]
  },
  {
   "cell_type": "markdown",
   "metadata": {},
   "source": [
    "### Analyze Performance"
   ]
  },
  {
   "cell_type": "code",
   "execution_count": 17,
   "metadata": {
    "collapsed": true
   },
   "outputs": [],
   "source": [
    "### Calculate the accuracy for these 5 new images. \n",
    "### For example, if the model predicted 1 out of 5 signs correctly, it's 20% accurate on these new images."
   ]
  },
  {
   "cell_type": "markdown",
   "metadata": {},
   "source": [
    "### Output Top 5 Softmax Probabilities For Each Image Found on the Web"
   ]
  },
  {
   "cell_type": "markdown",
   "metadata": {},
   "source": [
    "For each of the new images, print out the model's softmax probabilities to show the **certainty** of the model's predictions (limit the output to the top 5 probabilities for each image). [`tf.nn.top_k`](https://www.tensorflow.org/versions/r0.12/api_docs/python/nn.html#top_k) could prove helpful here. \n",
    "\n",
    "The example below demonstrates how tf.nn.top_k can be used to find the top k predictions for each image.\n",
    "\n",
    "`tf.nn.top_k` will return the values and indices (class ids) of the top k predictions. So if k=3, for each sign, it'll return the 3 largest probabilities (out of a possible 43) and the correspoding class ids.\n",
    "\n",
    "Take this numpy array as an example. The values in the array represent predictions. The array contains softmax probabilities for five candidate images with six possible classes. `tk.nn.top_k` is used to choose the three classes with the highest probability:\n",
    "\n",
    "```\n",
    "# (5, 6) array\n",
    "a = np.array([[ 0.24879643,  0.07032244,  0.12641572,  0.34763842,  0.07893497,\n",
    "         0.12789202],\n",
    "       [ 0.28086119,  0.27569815,  0.08594638,  0.0178669 ,  0.18063401,\n",
    "         0.15899337],\n",
    "       [ 0.26076848,  0.23664738,  0.08020603,  0.07001922,  0.1134371 ,\n",
    "         0.23892179],\n",
    "       [ 0.11943333,  0.29198961,  0.02605103,  0.26234032,  0.1351348 ,\n",
    "         0.16505091],\n",
    "       [ 0.09561176,  0.34396535,  0.0643941 ,  0.16240774,  0.24206137,\n",
    "         0.09155967]])\n",
    "```\n",
    "\n",
    "Running it through `sess.run(tf.nn.top_k(tf.constant(a), k=3))` produces:\n",
    "\n",
    "```\n",
    "TopKV2(values=array([[ 0.34763842,  0.24879643,  0.12789202],\n",
    "       [ 0.28086119,  0.27569815,  0.18063401],\n",
    "       [ 0.26076848,  0.23892179,  0.23664738],\n",
    "       [ 0.29198961,  0.26234032,  0.16505091],\n",
    "       [ 0.34396535,  0.24206137,  0.16240774]]), indices=array([[3, 0, 5],\n",
    "       [0, 1, 4],\n",
    "       [0, 5, 1],\n",
    "       [1, 3, 5],\n",
    "       [1, 4, 3]], dtype=int32))\n",
    "```\n",
    "\n",
    "Looking just at the first row we get `[ 0.34763842,  0.24879643,  0.12789202]`, you can confirm these are the 3 largest probabilities in `a`. You'll also notice `[3, 0, 5]` are the corresponding indices."
   ]
  },
  {
   "cell_type": "code",
   "execution_count": 18,
   "metadata": {
    "collapsed": true
   },
   "outputs": [],
   "source": [
    "### Print out the top five softmax probabilities for the predictions on the German traffic sign images found on the web. \n",
    "### Feel free to use as many code cells as needed."
   ]
  },
  {
   "cell_type": "markdown",
   "metadata": {},
   "source": [
    "---\n",
    "\n",
    "## Step 4: Visualize the Neural Network's State with Test Images\n",
    "\n",
    " This Section is not required to complete but acts as an additional excersise for understaning the output of a neural network's weights. While neural networks can be a great learning device they are often referred to as a black box. We can understand what the weights of a neural network look like better by plotting their feature maps. After successfully training your neural network you can see what it's feature maps look like by plotting the output of the network's weight layers in response to a test stimuli image. From these plotted feature maps, it's possible to see what characteristics of an image the network finds interesting. For a sign, maybe the inner network feature maps react with high activation to the sign's boundary outline or to the contrast in the sign's painted symbol.\n",
    "\n",
    " Provided for you below is the function code that allows you to get the visualization output of any tensorflow weight layer you want. The inputs to the function should be a stimuli image, one used during training or a new one you provided, and then the tensorflow variable name that represents the layer's state during the training process, for instance if you wanted to see what the [LeNet lab's](https://classroom.udacity.com/nanodegrees/nd013/parts/fbf77062-5703-404e-b60c-95b78b2f3f9e/modules/6df7ae49-c61c-4bb2-a23e-6527e69209ec/lessons/601ae704-1035-4287-8b11-e2c2716217ad/concepts/d4aca031-508f-4e0b-b493-e7b706120f81) feature maps looked like for it's second convolutional layer you could enter conv2 as the tf_activation variable.\n",
    "\n",
    "For an example of what feature map outputs look like, check out NVIDIA's results in their paper [End-to-End Deep Learning for Self-Driving Cars](https://devblogs.nvidia.com/parallelforall/deep-learning-self-driving-cars/) in the section Visualization of internal CNN State. NVIDIA was able to show that their network's inner weights had high activations to road boundary lines by comparing feature maps from an image with a clear path to one without. Try experimenting with a similar test to show that your trained network's weights are looking for interesting features, whether it's looking at differences in feature maps from images with or without a sign, or even what feature maps look like in a trained network vs a completely untrained one on the same sign image.\n",
    "\n",
    "<figure>\n",
    " <img src=\"visualize_cnn.png\" width=\"380\" alt=\"Combined Image\" />\n",
    " <figcaption>\n",
    " <p></p> \n",
    " <p style=\"text-align: center;\"> Your output should look something like this (above)</p> \n",
    " </figcaption>\n",
    "</figure>\n",
    " <p></p> \n"
   ]
  },
  {
   "cell_type": "code",
   "execution_count": 19,
   "metadata": {
    "collapsed": true
   },
   "outputs": [],
   "source": [
    "### Visualize your network's feature maps here.\n",
    "### Feel free to use as many code cells as needed.\n",
    "\n",
    "# image_input: the test image being fed into the network to produce the feature maps\n",
    "# tf_activation: should be a tf variable name used during your training procedure that represents the calculated state of a specific weight layer\n",
    "# activation_min/max: can be used to view the activation contrast in more detail, by default matplot sets min and max to the actual min and max values of the output\n",
    "# plt_num: used to plot out multiple different weight feature map sets on the same block, just extend the plt number for each new feature map entry\n",
    "\n",
    "def outputFeatureMap(image_input, tf_activation, activation_min=-1, activation_max=-1 ,plt_num=1):\n",
    "    # Here make sure to preprocess your image_input in a way your network expects\n",
    "    # with size, normalization, ect if needed\n",
    "    # image_input =\n",
    "    # Note: x should be the same name as your network's tensorflow data placeholder variable\n",
    "    # If you get an error tf_activation is not defined it maybe having trouble accessing the variable from inside a function\n",
    "    activation = tf_activation.eval(session=sess,feed_dict={x : image_input})\n",
    "    featuremaps = activation.shape[3]\n",
    "    plt.figure(plt_num, figsize=(15,15))\n",
    "    for featuremap in range(featuremaps):\n",
    "        plt.subplot(6,8, featuremap+1) # sets the number of feature maps to show on each row and column\n",
    "        plt.title('FeatureMap ' + str(featuremap)) # displays the feature map number\n",
    "        if activation_min != -1 & activation_max != -1:\n",
    "            plt.imshow(activation[0,:,:, featuremap], interpolation=\"nearest\", vmin =activation_min, vmax=activation_max, cmap=\"gray\")\n",
    "        elif activation_max != -1:\n",
    "            plt.imshow(activation[0,:,:, featuremap], interpolation=\"nearest\", vmax=activation_max, cmap=\"gray\")\n",
    "        elif activation_min !=-1:\n",
    "            plt.imshow(activation[0,:,:, featuremap], interpolation=\"nearest\", vmin=activation_min, cmap=\"gray\")\n",
    "        else:\n",
    "            plt.imshow(activation[0,:,:, featuremap], interpolation=\"nearest\", cmap=\"gray\")"
   ]
  },
  {
   "cell_type": "markdown",
   "metadata": {},
   "source": [
    "### Question 9\n",
    "\n",
    "Discuss how you used the visual output of your trained network's feature maps to show that it had learned to look for interesting characteristics in traffic sign images\n"
   ]
  },
  {
   "cell_type": "markdown",
   "metadata": {},
   "source": [
    "**Answer:**"
   ]
  },
  {
   "cell_type": "markdown",
   "metadata": {},
   "source": [
    "> **Note**: Once you have completed all of the code implementations and successfully answered each question above, you may finalize your work by exporting the iPython Notebook as an HTML document. You can do this by using the menu above and navigating to  \\n\",\n",
    "    \"**File -> Download as -> HTML (.html)**. Include the finished document along with this notebook as your submission."
   ]
  },
  {
   "cell_type": "markdown",
   "metadata": {},
   "source": [
    "### Project Writeup\n",
    "\n",
    "Once you have completed the code implementation, document your results in a project writeup using this [template](https://github.com/udacity/CarND-Traffic-Sign-Classifier-Project/blob/master/writeup_template.md) as a guide. The writeup can be in a markdown or pdf file. "
   ]
  }
 ],
 "metadata": {
  "anaconda-cloud": {},
  "kernelspec": {
   "display_name": "Python [default]",
   "language": "python",
   "name": "python3"
  },
  "language_info": {
   "codemirror_mode": {
    "name": "ipython",
    "version": 3
   },
   "file_extension": ".py",
   "mimetype": "text/x-python",
   "name": "python",
   "nbconvert_exporter": "python",
   "pygments_lexer": "ipython3",
   "version": "3.5.2"
  }
 },
 "nbformat": 4,
 "nbformat_minor": 1
}
